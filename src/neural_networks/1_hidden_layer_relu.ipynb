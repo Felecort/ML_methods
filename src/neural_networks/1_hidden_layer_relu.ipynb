{
 "cells": [
  {
   "cell_type": "code",
   "execution_count": null,
   "metadata": {},
   "outputs": [],
   "source": [
    "import numpy as np\n",
    "from sklearn import datasets"
   ]
  },
  {
   "cell_type": "code",
   "execution_count": null,
   "metadata": {},
   "outputs": [],
   "source": [
    "#                    Description of the dataset\n",
    "#  data : {ndarray, dataframe} of shape (150, 4)\n",
    "#             The data matrix. If `as_frame=True`, `data` will be a pandas\n",
    "#             DataFrame.\n",
    "#         target: {ndarray, Series} of shape (150,)\n",
    "#             The classification target. If `as_frame=True`, `target` will be\n",
    "#             a pandas Series.\n",
    "#         feature_names: list\n",
    "#             The names of the dataset columns.\n",
    "#         target_names: list\n",
    "#             The names of target classes.\n",
    "#         frame: DataFrame of shape (150, 5)\n",
    "#             Only present when `as_frame=True`. DataFrame with `data` and\n",
    "#             `target`."
   ]
  },
  {
   "cell_type": "code",
   "execution_count": null,
   "metadata": {},
   "outputs": [],
   "source": [
    "# Creating an output array\n",
    "def target_array(raw_target):\n",
    "    target = []\n",
    "    for i in range(len(raw_target)):\n",
    "        if raw_target[i] == 0:\n",
    "            target.append([1, 0, 0])\n",
    "        elif raw_target[i] == 1:\n",
    "            target.append([0, 1, 0])\n",
    "        else:\n",
    "            target.append([0, 0, 1])\n",
    "    return (np.array(target, dtype=\"uint8\"))\n",
    "    "
   ]
  },
  {
   "cell_type": "code",
   "execution_count": null,
   "metadata": {},
   "outputs": [],
   "source": [
    "# Loading a dataset and mixing data\n",
    "iris = datasets.load_iris()\n",
    "\n",
    "data = iris.data\n",
    "target = target_array(iris.target)\n",
    "\n",
    "np.random.seed(1)\n",
    "np.random.shuffle(data)\n",
    "np.random.seed(1)\n",
    "np.random.shuffle(target)"
   ]
  },
  {
   "cell_type": "code",
   "execution_count": null,
   "metadata": {},
   "outputs": [],
   "source": [
    "# # Activation function\n",
    "# def relu(x): \n",
    "#     z = (x > 4) * x     # returns x if x > 0\n",
    "#     return z            # return 0 otherwise\n",
    "\n",
    "\n",
    "# # Derivative of the activation function\n",
    "# def relu2deriv(output):\n",
    "#     z = output > 4\n",
    "#     return z            # returns 1 for input > 0\n",
    "\n",
    "\n",
    "# Activation function\n",
    "def activation_func(x):\n",
    "    z = 1 / (1 + (np.e ** -x))\n",
    "    return z\n",
    "\n",
    "\n",
    "# Derivative of the activation function\n",
    "def deriv_activation_func(x):\n",
    "    z = activation_func(x)\n",
    "    return z * (1 - z)\n",
    "    "
   ]
  },
  {
   "cell_type": "code",
   "execution_count": null,
   "metadata": {},
   "outputs": [],
   "source": [
    "# Neural network learning function\n",
    "def neural_network_training(weights_0_to_1,\n",
    "                            weights_1_to_2,\n",
    "                            data,\n",
    "                            target,\n",
    "                            number_training_data,\n",
    "                            epochs=5,\n",
    "                            alpha=0.5):\n",
    "    epoch_print_step = 70\n",
    "    for epoch in range(epochs):\n",
    "        # layer_2_error = 0\n",
    "        for i in range(number_training_data):\n",
    "            layer_0 = data[i:i + 1]\n",
    "            layer_1 = activation_func(np.dot(layer_0, weights_0_to_1))\n",
    "            layer_2 = np.dot(layer_1, weights_1_to_2)\n",
    "            # print(f\"layer_0 {layer_0},\\n\\nweights_0_to_1 {weights_0_to_1},\\n\\nnp.dot {np.dot(layer_0, weights_0_to_1)}\\n\\n\")\n",
    "            \n",
    "            # layer_2_error += np.sum((layer_2 - target[i:i + 1]) ** 2)\n",
    "            \n",
    "            layer_2_delta = layer_2 - target[i:i + 1]\n",
    "            layer_1_delta = layer_2_delta.dot(weights_1_to_2.T) * deriv_activation_func(layer_1)\n",
    "            \n",
    "            weights_1_to_2 -= alpha * layer_1.T.dot(layer_2_delta)\n",
    "            weights_0_to_1 -= alpha * layer_0.T.dot(layer_1_delta)\n",
    "            \n",
    "            if epoch % epoch_print_step == 0 and i > 10 and i < 17:\n",
    "                # print(f\"Error: {np.sum((layer_2 - target[i]) ** 2):.5f}\")\n",
    "                print(f\"Error: {np.sum((layer_2 - target[i]) ** 2):.5f}, out = {layer_2}, target = {target[i]}\")\n",
    "        if epoch % epoch_print_step == 0:\n",
    "            print(f\"epoch: {epoch}\\n\")"
   ]
  },
  {
   "cell_type": "code",
   "execution_count": null,
   "metadata": {},
   "outputs": [],
   "source": [
    "# Declaring parameters for a neural network\n",
    "epochs = 701\n",
    "alpha = 0.002\n",
    "\n",
    "number_test_data = 30\n",
    "number_training_data = len(data) - number_test_data\n",
    "layer_size_1 = 6\n",
    "\n",
    "np.random.seed(1)\n",
    "weights_0_to_1 =  np.random.rand(len(data[0]), layer_size_1)\n",
    "weights_1_to_2 =  np.random.rand(layer_size_1, len(target[0]))"
   ]
  },
  {
   "cell_type": "code",
   "execution_count": null,
   "metadata": {},
   "outputs": [],
   "source": [
    "# Neural network training\n",
    "neural_network_training(weights_0_to_1,\n",
    "                        weights_1_to_2,\n",
    "                        data,\n",
    "                        target,\n",
    "                        number_training_data,\n",
    "                        epochs,\n",
    "                        alpha)"
   ]
  }
 ],
 "metadata": {
  "interpreter": {
   "hash": "4bfd4ff3fa42f792e9ca4f5ed23a406369bd745bdab3b75153b8c4e6e882a8bd"
  },
  "kernelspec": {
   "display_name": "Python 3.9.7 64-bit ('learn_venv': conda)",
   "language": "python",
   "name": "python3"
  },
  "language_info": {
   "codemirror_mode": {
    "name": "ipython",
    "version": 3
   },
   "file_extension": ".py",
   "mimetype": "text/x-python",
   "name": "python",
   "nbconvert_exporter": "python",
   "pygments_lexer": "ipython3",
   "version": "3.9.7"
  },
  "orig_nbformat": 4
 },
 "nbformat": 4,
 "nbformat_minor": 2
}
